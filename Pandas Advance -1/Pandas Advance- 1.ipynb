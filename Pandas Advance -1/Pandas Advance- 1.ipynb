{
 "cells": [
  {
   "cell_type": "code",
   "execution_count": 1,
   "id": "672b7a6d-e5d8-4af0-a506-4c5521a540de",
   "metadata": {},
   "outputs": [],
   "source": [
    "import pandas as pd"
   ]
  },
  {
   "cell_type": "raw",
   "id": "a72d1f4e-3363-43e6-9a6f-2f540ebdf8e7",
   "metadata": {},
   "source": [
    "1. How can you re-index a pandas DataFrame in python?\n",
    "    a)by using index\n",
    "    b)by using re-index \n",
    "    c)by using pandas \n",
    "    d)none of the above\n",
    "    "
   ]
  },
  {
   "cell_type": "raw",
   "id": "393cc15e-889c-4b09-b5cb-1450a72e56a8",
   "metadata": {},
   "source": [
    "Answer==>\n",
    "* To re-index a pandas DataFrame in Python, you can use the reindex method. \n",
    "* The reindex method allows you to change the order of the rows, add new rows, and remove existing rows. \n",
    "* You can also use it to change the order of the columns, add new columns, and remove existing columns."
   ]
  },
  {
   "cell_type": "code",
   "execution_count": 4,
   "id": "711b14cd-792e-48cd-8db8-121be2fa6090",
   "metadata": {},
   "outputs": [
    {
     "name": "stdout",
     "output_type": "stream",
     "text": [
      "Before Rearrangment\n",
      "   A  B  C\n",
      "0  1  4  7\n",
      "1  2  5  8\n",
      "2  3  6  9\n",
      "After Rearrangment\n",
      "   C  B  A\n",
      "2  9  6  3\n",
      "0  7  4  1\n",
      "1  8  5  2\n"
     ]
    }
   ],
   "source": [
    "# create a sample DataFrame\n",
    "df = pd.DataFrame({'A': [1, 2, 3], 'B': [4, 5, 6], 'C': [7, 8, 9]})\n",
    "\n",
    "# Print dataframe before rearrangment\n",
    "print(\"Before Rearrangment\")\n",
    "print (df)\n",
    "\n",
    "# re-index the DataFrame\n",
    "df = df.reindex([2, 0, 1]) # Changes the row order\n",
    "\n",
    "# re-index the columns\n",
    "df = df.reindex(columns=['C', 'B', 'A']) # Changes the column order\n",
    "\n",
    "# Print dataframe After rearrangment\n",
    "print(\"After Rearrangment\")\n",
    "print(df)"
   ]
  },
  {
   "cell_type": "code",
   "execution_count": 5,
   "id": "d509fe24-8309-4714-a68c-349e3b4834a8",
   "metadata": {},
   "outputs": [
    {
     "ename": "TypeError",
     "evalue": "tuple indices must be integers or slices, not str",
     "output_type": "error",
     "traceback": [
      "\u001b[0;31m---------------------------------------------------------------------------\u001b[0m",
      "\u001b[0;31mTypeError\u001b[0m                                 Traceback (most recent call last)",
      "Cell \u001b[0;32mIn[7], line 13\u001b[0m\n\u001b[1;32m      7\u001b[0m df \u001b[38;5;241m=\u001b[39m pd\u001b[38;5;241m.\u001b[39mDataFrame(data)\n\u001b[1;32m     11\u001b[0m \u001b[38;5;28;01mfor\u001b[39;00m index \u001b[38;5;129;01min\u001b[39;00m df\u001b[38;5;241m.\u001b[39miterrows():\n\u001b[0;32m---> 13\u001b[0m     \u001b[38;5;28mprint\u001b[39m(\u001b[43mrow\u001b[49m\u001b[43m[\u001b[49m\u001b[38;5;124;43m'\u001b[39;49m\u001b[38;5;124;43mname\u001b[39;49m\u001b[38;5;124;43m'\u001b[39;49m\u001b[43m]\u001b[49m, row[\u001b[38;5;124m'\u001b[39m\u001b[38;5;124mage\u001b[39m\u001b[38;5;124m'\u001b[39m])\n",
      "\u001b[0;31mTypeError\u001b[0m: tuple indices must be integers or slices, not str"
     ]
    }
   ],
   "source": [
    "import pandas as pd\n",
    "\n",
    " \n",
    "\n",
    "data = {'name': ['John', 'Jane', 'Bob'], 'age': [25, 30, 35]}\n",
    "\n",
    "df = pd.DataFrame(data)\n",
    "\n",
    " \n",
    "\n",
    "for index, row in df.iterrows():\n",
    "\n",
    "    print(row['name'], row['age'])"
   ]
  },
  {
   "cell_type": "code",
   "execution_count": null,
   "id": "10dc14bf-6b64-4dc0-ae6e-164d4e4f9e2e",
   "metadata": {},
   "outputs": [],
   "source": []
  }
 ],
 "metadata": {
  "kernelspec": {
   "display_name": "Python 3 (ipykernel)",
   "language": "python",
   "name": "python3"
  },
  "language_info": {
   "codemirror_mode": {
    "name": "ipython",
    "version": 3
   },
   "file_extension": ".py",
   "mimetype": "text/x-python",
   "name": "python",
   "nbconvert_exporter": "python",
   "pygments_lexer": "ipython3",
   "version": "3.10.8"
  }
 },
 "nbformat": 4,
 "nbformat_minor": 5
}
